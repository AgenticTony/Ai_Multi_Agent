{
 "cells": [
  {
   "cell_type": "markdown",
   "metadata": {},
   "source": [
    "# VoiceHive Call Review Notebook\n",
    "\n",
    "This notebook analyzes call transcripts and generates feedback for prompt improvements.\n",
    "\n",
    "## Features:\n",
    "- Connect to Mem0 memory system\n",
    "- Analyze call transcripts from last 24 hours\n",
    "- Generate structured feedback\n",
    "- Visualize performance metrics\n",
    "- Create prompt improvement recommendations"
   ]
  },
  {
   "cell_type": "code",
   "execution_count": null,
   "metadata": {},
   "outputs": [],
   "source": [
    "# Import required libraries\n",
    "import sys\n",
    "import os\n",
    "import json\n",
    "import pandas as pd\n",
    "import matplotlib.pyplot as plt\n",
    "import seaborn as sns\n",
    "from datetime import datetime, timedelta\n",
    "import asyncio\n",
    "from typing import Dict, List, Any\n",
    "\n",
    "# Add parent directory to path\n",
    "sys.path.append('..')\n",
    "\n",
    "# Import VoiceHive modules\n",
    "from vertex_feedback_service import feedback_service, analyze_daily_calls\n",
    "from memory.mem0 import memory_system\n",
    "from improvements.prompt_manager import prompt_manager\n",
    "\n",
    "print(\"✅ Libraries imported successfully\")"
   ]
  },
  {
   "cell_type": "markdown",
   "metadata": {},
   "source": [
    "## Configuration"
   ]
  },
  {
   "cell_type": "code",
   "execution_count": null,
   "metadata": {},
   "outputs": [],
   "source": [
    "# Configuration\n",
    "TARGET_DATE = (datetime.now() - timedelta(days=1)).strftime('%Y-%m-%d')\n",
    "ANALYSIS_DAYS = 3  # Number of days to analyze\n",
    "\n",
    "print(f\"Target analysis date: {TARGET_DATE}\")\n",
    "print(f\"Analysis period: {ANALYSIS_DAYS} days\")"
   ]
  },
  {
   "cell_type": "markdown",
   "metadata": {},
   "source": [
    "## Mock Data Generation (for testing)"
   ]
  },
  {
   "cell_type": "code",
   "execution_count": null,
   "metadata": {},
   "outputs": [],
   "source": [
    "def generate_mock_transcripts(num_calls=10, date=None):\n",
    "    \"\"\"Generate mock call transcripts for testing\"\"\"\n",
    "    if not date:\n",
    "        date = TARGET_DATE\n",
    "    \n",
    "    mock_transcripts = [\n",
    "        {\n",
    "            \"call_id\": f\"call_{i+1:03d}\",\n",
    "            \"session_id\": f\"session_{i+1:03d}\",\n",
    "            \"content\": f\"\"\"Agent: Hello! I'm Roxy, your VoiceHive assistant. How can I help you today?\n",
    "Customer: Hi, I'm interested in booking an appointment for next week.\n",
    "Agent: Great! I'd be happy to help you book an appointment. Can I get your name and phone number?\n",
    "Customer: Sure, it's John Smith and my number is 555-0{i+100:03d}.\n",
    "Agent: Thank you John. What type of service are you looking for?\n",
    "Customer: I need a consultation about your premium package.\n",
    "Agent: Perfect! Let me check our availability for next week. What days work best for you?\n",
    "Customer: Tuesday or Wednesday would be ideal.\n",
    "Agent: I have Tuesday at 2 PM or Wednesday at 10 AM available. Which would you prefer?\n",
    "Customer: Tuesday at 2 PM sounds perfect.\n",
    "Agent: Excellent! I've booked you for Tuesday at 2 PM. You'll receive a confirmation shortly.\n",
    "Customer: Thank you so much!\n",
    "Agent: You're welcome! Is there anything else I can help you with today?\n",
    "Customer: No, that's all. Thank you!\n",
    "Agent: Have a great day, John!\"\"\",\n",
    "            \"timestamp\": f\"{date}T{10+i:02d}:30:00Z\",\n",
    "            \"user_name\": f\"Customer_{i+1}\",\n",
    "            \"user_phone\": f\"555-0{i+100:03d}\"\n",
    "        }\n",
    "        for i in range(num_calls)\n",
    "    ]\n",
    "    \n",
    "    # Add some problematic calls for testing\n",
    "    problematic_calls = [\n",
    "        {\n",
    "            \"call_id\": \"call_problem_001\",\n",
    "            \"session_id\": \"session_problem_001\",\n",
    "            \"content\": \"\"\"Agent: Hello, VoiceHive here.\n",
    "Customer: I want to book something.\n",
    "Agent: What do you want?\n",
    "Customer: An appointment, obviously.\n",
    "Agent: When?\n",
    "Customer: Next week sometime.\n",
    "Agent: We have slots available.\n",
    "Customer: This is frustrating. Can I speak to a human?\n",
    "Agent: I can help you. What's your name?\n",
    "Customer: Forget it, I'll call back later.\"\"\",\n",
    "            \"timestamp\": f\"{date}T15:45:00Z\",\n",
    "            \"user_name\": \"Frustrated_Customer\",\n",
    "            \"user_phone\": \"555-0999\"\n",
    "        },\n",
    "        {\n",
    "            \"call_id\": \"call_problem_002\",\n",
    "            \"session_id\": \"session_problem_002\",\n",
    "            \"content\": \"\"\"Agent: Hi there! How can I help?\n",
    "Customer: I need to reschedule my appointment.\n",
    "Agent: Sure! Can you give me your appointment details?\n",
    "Customer: I don't have them with me.\n",
    "Agent: That's okay, what's your phone number?\n",
    "Customer: 555-0888\n",
    "Agent: I'm having trouble finding your appointment. Can you try calling back?\n",
    "Customer: This is ridiculous. Your system doesn't work.\n",
    "Agent: I apologize for the inconvenience.\n",
    "Customer: Whatever, I'll find another service.\"\"\",\n",
    "            \"timestamp\": f\"{date}T16:20:00Z\",\n",
    "            \"user_name\": \"Unhappy_Customer\",\n",
    "            \"user_phone\": \"555-0888\"\n",
    "        }\n",
    "    ]\n",
    "    \n",
    "    return mock_transcripts + problematic_calls\n",
    "\n",
    "# Generate mock data\n",
    "mock_data = generate_mock_transcripts(8, TARGET_DATE)\n",
    "print(f\"✅ Generated {len(mock_data)} mock transcripts\")"
   ]
  },
  {
   "cell_type": "markdown",
   "metadata": {},
   "source": [
    "## Summary and Next Steps"
   ]
  },
  {
   "cell_type": "code",
   "execution_count": null,
   "metadata": {},
   "outputs": [],
   "source": [
    "print(\"\\n🎉 Call Review Analysis Complete!\")\n",
    "print(\"=\" * 40)\n",
    "print(\"\\n📝 This notebook provides:\")\n",
    "print(\"   • Mock data generation for testing\")\n",
    "print(\"   • Integration with VoiceHive feedback service\")\n",
    "print(\"   • Data visualization capabilities\")\n",
    "print(\"   • Interactive analysis tools\")\n",
    "print(\"\\n🔄 Next Steps:\")\n",
    "print(\"1. Configure environment variables\")\n",
    "print(\"2. Test with real transcript data\")\n",
    "print(\"3. Schedule daily execution\")\n",
    "print(\"4. Integrate with monitoring dashboards\")"
   ]
  }
 ],
 "metadata": {
  "kernelspec": {
   "display_name": "Python 3",
   "language": "python",
   "name": "python3"
  },
  "language_info": {
   "codemirror_mode": {
    "name": "ipython",
    "version": 3
   },
   "file_extension": ".py",
   "mimetype": "text/x-python",
   "name": "python",
   "nbconvert_exporter": "python",
   "pygraph_version": "3.8.0"
  }
 },
 "nbformat": 4,
 "nbformat_minor": 4
}
